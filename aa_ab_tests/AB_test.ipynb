{
 "cells": [
  {
   "cell_type": "markdown",
   "id": "3dfe6554-4360-429a-857e-1ada352e3741",
   "metadata": {},
   "source": [
    "Пришло время проанализировать результаты эксперимента, который мы провели вместе с командой дата сайентистов. \n",
    "Эксперимент проходил с 2022-10-03 по 2022-10-09 включительно. Для эксперимента были задействованы 2 и 1 группы. \n",
    "\n",
    "В группе 2 был использован один из новых алгоритмов рекомендации постов, группа 1 использовалась в качестве контроля. \n",
    "\n",
    "Основная гипотеза заключается в том, что новый алгоритм во 2-й группе приведет к увеличению CTR. \n",
    "\n",
    "Ваша задача — проанализировать данные АB-теста. \n",
    "\n",
    "    Выбрать метод анализа и сравнить CTR в двух группах (мы разбирали t-тест, Пуассоновский бутстреп, тест Манна-Уитни, t-тест на сглаженном ctr (α=5) а также t-тест и тест Манна-Уитни поверх бакетного преобразования).\n",
    "    Сравните данные этими тестами. А еще посмотрите на распределения глазами. Почему тесты сработали так как сработали? \n",
    "    Опишите потенциальную ситуацию, когда такое изменение могло произойти. Тут нет идеального ответа, подумайте.\n",
    "    Напишите рекомендацию, будем ли мы раскатывать новый алгоритм на всех новых пользователей или все-таки не стоит.\n",
    "\n",
    "Ваше решение — это ссылка на merge request с проведенным анализом."
   ]
  },
  {
   "cell_type": "code",
   "execution_count": 1,
   "id": "bf8842dd-b558-49d9-9a79-11bd6c8cf2ca",
   "metadata": {},
   "outputs": [],
   "source": [
    "import pandas as pd\n",
    "import pandahouse\n",
    "import seaborn as sns\n",
    "import matplotlib.pyplot as plt\n",
    "import numpy as np\n",
    "import hashlib\n",
    "from scipy import stats\n",
    "%matplotlib inline"
   ]
  },
  {
   "cell_type": "code",
   "execution_count": 30,
   "id": "0cb03b6e-d6b6-4242-b883-51463159e529",
   "metadata": {},
   "outputs": [],
   "source": [
    "import pandahouse\n",
    "\n",
    "connection = {\n",
    "    'host': 'https://clickhouse.lab.karpov.courses',\n",
    "    'password': 'dpo_python_2020',\n",
    "    'user': 'student',\n",
    "    'database': 'simulator_20221020'\n",
    "}\n",
    "\n",
    "q = '''SELECT exp_group,\n",
    "              user_id,\n",
    "              sum(action = 'like') likes,\n",
    "              sum(action = 'view') views,\n",
    "              likes / views ctr\n",
    "        FROM {db}.feed_actions \n",
    "        where toDate(time) between '2022-10-03' and '2022-10-09'\n",
    "            and exp_group in (1,2)\n",
    "        group by exp_group, user_id\n",
    "     '''"
   ]
  },
  {
   "cell_type": "code",
   "execution_count": 31,
   "id": "b8b07a90-6169-436e-9796-ad2628ff6f60",
   "metadata": {},
   "outputs": [
    {
     "data": {
      "text/html": [
       "<div>\n",
       "<style scoped>\n",
       "    .dataframe tbody tr th:only-of-type {\n",
       "        vertical-align: middle;\n",
       "    }\n",
       "\n",
       "    .dataframe tbody tr th {\n",
       "        vertical-align: top;\n",
       "    }\n",
       "\n",
       "    .dataframe thead th {\n",
       "        text-align: right;\n",
       "    }\n",
       "</style>\n",
       "<table border=\"1\" class=\"dataframe\">\n",
       "  <thead>\n",
       "    <tr style=\"text-align: right;\">\n",
       "      <th></th>\n",
       "      <th>exp_group</th>\n",
       "      <th>user_id</th>\n",
       "      <th>likes</th>\n",
       "      <th>views</th>\n",
       "      <th>ctr</th>\n",
       "    </tr>\n",
       "  </thead>\n",
       "  <tbody>\n",
       "    <tr>\n",
       "      <th>0</th>\n",
       "      <td>1</td>\n",
       "      <td>109963</td>\n",
       "      <td>3</td>\n",
       "      <td>15</td>\n",
       "      <td>0.200000</td>\n",
       "    </tr>\n",
       "    <tr>\n",
       "      <th>1</th>\n",
       "      <td>1</td>\n",
       "      <td>26117</td>\n",
       "      <td>32</td>\n",
       "      <td>141</td>\n",
       "      <td>0.226950</td>\n",
       "    </tr>\n",
       "    <tr>\n",
       "      <th>2</th>\n",
       "      <td>1</td>\n",
       "      <td>138232</td>\n",
       "      <td>18</td>\n",
       "      <td>73</td>\n",
       "      <td>0.246575</td>\n",
       "    </tr>\n",
       "    <tr>\n",
       "      <th>3</th>\n",
       "      <td>1</td>\n",
       "      <td>26295</td>\n",
       "      <td>33</td>\n",
       "      <td>122</td>\n",
       "      <td>0.270492</td>\n",
       "    </tr>\n",
       "    <tr>\n",
       "      <th>4</th>\n",
       "      <td>1</td>\n",
       "      <td>18392</td>\n",
       "      <td>7</td>\n",
       "      <td>32</td>\n",
       "      <td>0.218750</td>\n",
       "    </tr>\n",
       "  </tbody>\n",
       "</table>\n",
       "</div>"
      ],
      "text/plain": [
       "   exp_group  user_id  likes  views       ctr\n",
       "0          1   109963      3     15  0.200000\n",
       "1          1    26117     32    141  0.226950\n",
       "2          1   138232     18     73  0.246575\n",
       "3          1    26295     33    122  0.270492\n",
       "4          1    18392      7     32  0.218750"
      ]
     },
     "execution_count": 31,
     "metadata": {},
     "output_type": "execute_result"
    }
   ],
   "source": [
    "df = pandahouse.read_clickhouse(q, connection=connection)\n",
    "df.head()"
   ]
  },
  {
   "cell_type": "code",
   "execution_count": 32,
   "id": "8dd0529a-8e9d-4255-add6-3bee48bd6cda",
   "metadata": {},
   "outputs": [
    {
     "data": {
      "text/plain": [
       "exp_group\n",
       "1    10079\n",
       "2     9952\n",
       "Name: user_id, dtype: int64"
      ]
     },
     "execution_count": 32,
     "metadata": {},
     "output_type": "execute_result"
    }
   ],
   "source": [
    "df.groupby('exp_group')['user_id'].count()"
   ]
  },
  {
   "cell_type": "code",
   "execution_count": 33,
   "id": "9ad47611-3136-47d8-923f-d89a54a68fb7",
   "metadata": {},
   "outputs": [
    {
     "data": {
      "image/png": "[encoded data removed]",
      "text/plain": [
       "<Figure size 864x648 with 1 Axes>"
      ]
     },
     "metadata": {},
     "output_type": "display_data"
    }
   ],
   "source": [
    "sns.set(rc={'figure.figsize': (12,9)})\n",
    "sns.histplot(data=df, x='ctr', hue='exp_group');"
   ]
  },
  {
   "cell_type": "code",
   "execution_count": 9,
   "id": "7bd47493-458b-4b69-8544-2d4cef94acb5",
   "metadata": {},
   "outputs": [
    {
     "data": {
      "text/html": [
       "<div>\n",
       "<style scoped>\n",
       "    .dataframe tbody tr th:only-of-type {\n",
       "        vertical-align: middle;\n",
       "    }\n",
       "\n",
       "    .dataframe tbody tr th {\n",
       "        vertical-align: top;\n",
       "    }\n",
       "\n",
       "    .dataframe thead th {\n",
       "        text-align: right;\n",
       "    }\n",
       "</style>\n",
       "<table border=\"1\" class=\"dataframe\">\n",
       "  <thead>\n",
       "    <tr style=\"text-align: right;\">\n",
       "      <th></th>\n",
       "      <th>mean</th>\n",
       "      <th>median</th>\n",
       "    </tr>\n",
       "    <tr>\n",
       "      <th>exp_group</th>\n",
       "      <th></th>\n",
       "      <th></th>\n",
       "    </tr>\n",
       "  </thead>\n",
       "  <tbody>\n",
       "    <tr>\n",
       "      <th>1</th>\n",
       "      <td>0.215605</td>\n",
       "      <td>0.203125</td>\n",
       "    </tr>\n",
       "    <tr>\n",
       "      <th>2</th>\n",
       "      <td>0.214419</td>\n",
       "      <td>0.142857</td>\n",
       "    </tr>\n",
       "  </tbody>\n",
       "</table>\n",
       "</div>"
      ],
      "text/plain": [
       "               mean    median\n",
       "exp_group                    \n",
       "1          0.215605  0.203125\n",
       "2          0.214419  0.142857"
      ]
     },
     "execution_count": 9,
     "metadata": {},
     "output_type": "execute_result"
    }
   ],
   "source": [
    "df.groupby('exp_group')['ctr'].agg(['mean','median'])"
   ]
  },
  {
   "cell_type": "markdown",
   "id": "6b527ebd-9096-43d9-8616-8e52c0d979c3",
   "metadata": {},
   "source": [
    "Гипотезы:\n",
    "\n",
    "H0: CTR контрольной группы и CTR эспериментальной группы не различаются \n",
    "\n",
    "H1: CTR контрольной группы и CTR эспериментальной группы различаются \n",
    "\n",
    "alpha = 5%"
   ]
  },
  {
   "cell_type": "code",
   "execution_count": 34,
   "id": "7273fbaa-f623-43a4-bb3f-ed7f09ea2621",
   "metadata": {},
   "outputs": [
    {
     "data": {
      "text/plain": [
       "Ttest_indResult(statistic=0.7094392041270485, pvalue=0.4780623130874935)"
      ]
     },
     "execution_count": 34,
     "metadata": {},
     "output_type": "execute_result"
    }
   ],
   "source": [
    "# T-test\n",
    "stats.ttest_ind(df[df['exp_group'] == 1]['ctr'],\n",
    "               df[df['exp_group'] == 2]['ctr'],\n",
    "               equal_var=False)"
   ]
  },
  {
   "cell_type": "markdown",
   "id": "271fef3f-627b-49f2-9d24-765af40cc7b0",
   "metadata": {},
   "source": [
    "Не можем отклонить нулевую гипотезу, p-value выше установленного alpha. Не можем приниять альтернативную гипотезу. Разница CTR статистически не значима"
   ]
  },
  {
   "cell_type": "code",
   "execution_count": 35,
   "id": "07a6200c-84b1-45d3-8b6f-dde3c2093779",
   "metadata": {},
   "outputs": [
    {
     "data": {
      "text/plain": [
       "MannwhitneyuResult(statistic=56601260.5, pvalue=6.0376484617779035e-56)"
      ]
     },
     "execution_count": 35,
     "metadata": {},
     "output_type": "execute_result"
    }
   ],
   "source": [
    "# U-test\n",
    "stats.mannwhitneyu(df[df['exp_group'] == 1]['ctr'],\n",
    "                   df[df['exp_group'] == 2]['ctr'])"
   ]
  },
  {
   "cell_type": "markdown",
   "id": "1806d258-f27b-4c50-b595-c2c635bc0cee",
   "metadata": {},
   "source": [
    "Отклоняем нулевую гипотезу, p-value ниже установленного alpha. Принимаем альтернативную гипотезу. Разница CTR статистически значима"
   ]
  },
  {
   "cell_type": "markdown",
   "id": "34cc7bb7-37ab-4c3d-92b0-77520ea8938e",
   "metadata": {},
   "source": [
    "Попробуем сгладить CTR"
   ]
  },
  {
   "cell_type": "code",
   "execution_count": 16,
   "id": "9198ee08-1b51-4287-9454-b6b2262374cd",
   "metadata": {},
   "outputs": [],
   "source": [
    "def smothed_ctr(user_likes, user_views, global_ctr, alpha):\n",
    "    ctr_ = (user_likes + alpha * global_ctr) / (user_views + alpha)\n",
    "    return ctr_"
   ]
  },
  {
   "cell_type": "code",
   "execution_count": 36,
   "id": "4043efd3-70c8-4139-95f6-5f35b0909c16",
   "metadata": {},
   "outputs": [],
   "source": [
    "global_ctr_1 = df[df['exp_group'] == 1]['likes'].sum() / df[df['exp_group'] == 1]['views'].sum()\n",
    "global_ctr_2 = df[df['exp_group'] == 2]['likes'].sum() / df[df['exp_group'] == 2]['views'].sum()"
   ]
  },
  {
   "cell_type": "code",
   "execution_count": 38,
   "id": "f4def01d-b087-493a-81a6-01a46ed81ff0",
   "metadata": {},
   "outputs": [],
   "source": [
    "df['smothed_ctr_1'] = df.apply(lambda x: smothed_ctr(x['likes'], x['views'], global_ctr_1, 5), axis=1)\n",
    "df['smothed_ctr_2'] = df.apply(lambda x: smothed_ctr(x['likes'], x['views'], global_ctr_2, 5), axis=1)"
   ]
  },
  {
   "cell_type": "code",
   "execution_count": 39,
   "id": "065a5a6e-5650-4e87-9ce2-a59bd78ea209",
   "metadata": {},
   "outputs": [
    {
     "data": {
      "text/html": [
       "<div>\n",
       "<style scoped>\n",
       "    .dataframe tbody tr th:only-of-type {\n",
       "        vertical-align: middle;\n",
       "    }\n",
       "\n",
       "    .dataframe tbody tr th {\n",
       "        vertical-align: top;\n",
       "    }\n",
       "\n",
       "    .dataframe thead th {\n",
       "        text-align: right;\n",
       "    }\n",
       "</style>\n",
       "<table border=\"1\" class=\"dataframe\">\n",
       "  <thead>\n",
       "    <tr style=\"text-align: right;\">\n",
       "      <th></th>\n",
       "      <th>exp_group</th>\n",
       "      <th>user_id</th>\n",
       "      <th>likes</th>\n",
       "      <th>views</th>\n",
       "      <th>ctr</th>\n",
       "      <th>smothed_ctr_1</th>\n",
       "      <th>smothed_ctr_2</th>\n",
       "    </tr>\n",
       "  </thead>\n",
       "  <tbody>\n",
       "    <tr>\n",
       "      <th>0</th>\n",
       "      <td>1</td>\n",
       "      <td>109963</td>\n",
       "      <td>3</td>\n",
       "      <td>15</td>\n",
       "      <td>0.200000</td>\n",
       "      <td>0.202007</td>\n",
       "      <td>0.199515</td>\n",
       "    </tr>\n",
       "    <tr>\n",
       "      <th>1</th>\n",
       "      <td>1</td>\n",
       "      <td>26117</td>\n",
       "      <td>32</td>\n",
       "      <td>141</td>\n",
       "      <td>0.226950</td>\n",
       "      <td>0.226302</td>\n",
       "      <td>0.225961</td>\n",
       "    </tr>\n",
       "    <tr>\n",
       "      <th>2</th>\n",
       "      <td>1</td>\n",
       "      <td>138232</td>\n",
       "      <td>18</td>\n",
       "      <td>73</td>\n",
       "      <td>0.246575</td>\n",
       "      <td>0.244104</td>\n",
       "      <td>0.243465</td>\n",
       "    </tr>\n",
       "    <tr>\n",
       "      <th>3</th>\n",
       "      <td>1</td>\n",
       "      <td>26295</td>\n",
       "      <td>33</td>\n",
       "      <td>122</td>\n",
       "      <td>0.270492</td>\n",
       "      <td>0.268033</td>\n",
       "      <td>0.267640</td>\n",
       "    </tr>\n",
       "    <tr>\n",
       "      <th>4</th>\n",
       "      <td>1</td>\n",
       "      <td>18392</td>\n",
       "      <td>7</td>\n",
       "      <td>32</td>\n",
       "      <td>0.218750</td>\n",
       "      <td>0.217301</td>\n",
       "      <td>0.215954</td>\n",
       "    </tr>\n",
       "  </tbody>\n",
       "</table>\n",
       "</div>"
      ],
      "text/plain": [
       "   exp_group  user_id  likes  views       ctr  smothed_ctr_1  smothed_ctr_2\n",
       "0          1   109963      3     15  0.200000       0.202007       0.199515\n",
       "1          1    26117     32    141  0.226950       0.226302       0.225961\n",
       "2          1   138232     18     73  0.246575       0.244104       0.243465\n",
       "3          1    26295     33    122  0.270492       0.268033       0.267640\n",
       "4          1    18392      7     32  0.218750       0.217301       0.215954"
      ]
     },
     "execution_count": 39,
     "metadata": {},
     "output_type": "execute_result"
    }
   ],
   "source": [
    "df.head()"
   ]
  },
  {
   "cell_type": "code",
   "execution_count": 42,
   "id": "ca7fd082-3004-4dbf-b6d9-ab324a1115a7",
   "metadata": {},
   "outputs": [
    {
     "data": {
      "text/plain": [
       "Ttest_indResult(statistic=2.2841320431616983, pvalue=0.0223769815558559)"
      ]
     },
     "execution_count": 42,
     "metadata": {},
     "output_type": "execute_result"
    }
   ],
   "source": [
    "# T-test\n",
    "stats.ttest_ind(df[df['exp_group'] == 1]['smothed_ctr_1'],\n",
    "               df[df['exp_group'] == 2]['smothed_ctr_2'],\n",
    "               equal_var=False)"
   ]
  },
  {
   "cell_type": "code",
   "execution_count": 43,
   "id": "b218f3ce-9cab-4b2c-b877-972f35c26e44",
   "metadata": {},
   "outputs": [
    {
     "data": {
      "text/plain": [
       "MannwhitneyuResult(statistic=56925125.0, pvalue=1.6163964114270227e-61)"
      ]
     },
     "execution_count": 43,
     "metadata": {},
     "output_type": "execute_result"
    }
   ],
   "source": [
    "# U-test\n",
    "stats.mannwhitneyu(df[df['exp_group'] == 1]['smothed_ctr_1'],\n",
    "                   df[df['exp_group'] == 2]['smothed_ctr_2'])"
   ]
  },
  {
   "cell_type": "markdown",
   "id": "0edb3041-13c9-4416-9fa0-03642597e94c",
   "metadata": {},
   "source": [
    "Отклоняем нулевую гипотезу, p-value ниже установленного alpha. \n",
    "\n",
    "Принимаем альтернативную гипотезу. \n",
    "\n",
    "Разница CTR статистически значима в обоих тестах"
   ]
  },
  {
   "cell_type": "code",
   "execution_count": 45,
   "id": "6fab6d40-a1fe-48f2-a06f-ddcd59f5f099",
   "metadata": {},
   "outputs": [],
   "source": [
    "def bootstrap(likes1, views1, likes2, views2, n_bootstrap=2000):\n",
    "    poisson_bootstrap1 = stats.poisson(1).rvs(\n",
    "        (2000, len(likes1))).astype(np.int64)\n",
    "    \n",
    "    poisson_bootstrap2 = stats.poisson(1).rvs(\n",
    "        (2000, len(likes2))).astype(np.int64)\n",
    "    \n",
    "    globalCTR1 = (poisson_bootstrap1 * likes1).sum(axis=1) / (poisson_bootstrap1 * views1).sum(axis=1)\n",
    "    globalCTR2 = (poisson_bootstrap2 * likes2).sum(axis=1) / (poisson_bootstrap2 * views2).sum(axis=1)\n",
    "    \n",
    "    return globalCTR1, globalCTR2"
   ]
  },
  {
   "cell_type": "code",
   "execution_count": 50,
   "id": "55a90367-e5c3-4feb-b3a2-9f8c39964e52",
   "metadata": {},
   "outputs": [],
   "source": [
    "likes1 = df[df['exp_group'] == 1].likes.to_numpy()\n",
    "likes2 = df[df['exp_group'] == 2].likes.to_numpy()\n",
    "views1 = df[df['exp_group'] == 1].views.to_numpy()\n",
    "views2 = df[df['exp_group'] == 2].views.to_numpy()"
   ]
  },
  {
   "cell_type": "code",
   "execution_count": 51,
   "id": "fcad72fe-d40f-43f7-b929-9fd50fe6f9a2",
   "metadata": {},
   "outputs": [
    {
     "data": {
      "text/plain": [
       "<AxesSubplot:ylabel='Count'>"
      ]
     },
     "execution_count": 51,
     "metadata": {},
     "output_type": "execute_result"
    },
    {
     "data": {
      "image/png": "[encoded data removed]",
      "text/plain": [
       "<Figure size 864x648 with 1 Axes>"
      ]
     },
     "metadata": {},
     "output_type": "display_data"
    }
   ],
   "source": [
    "ctr1, ctr2 = bootstrap(likes1, views1, likes2, views2)\n",
    "sns.histplot(ctr1)\n",
    "sns.histplot(ctr2)"
   ]
  },
  {
   "cell_type": "code",
   "execution_count": 53,
   "id": "e3a77b3f-6e02-4887-9f96-9a1d285af59b",
   "metadata": {},
   "outputs": [
    {
     "data": {
      "text/plain": [
       "<AxesSubplot:ylabel='Count'>"
      ]
     },
     "execution_count": 53,
     "metadata": {},
     "output_type": "execute_result"
    },
    {
     "data": {
      "image/png": "[encoded data removed]",
      "text/plain": [
       "<Figure size 864x648 with 1 Axes>"
      ]
     },
     "metadata": {},
     "output_type": "display_data"
    }
   ],
   "source": [
    "sns.histplot(ctr1 - ctr2)"
   ]
  },
  {
   "cell_type": "code",
   "execution_count": 55,
   "id": "6c3fd3c0-241a-458d-9817-4e11a8930d92",
   "metadata": {},
   "outputs": [
    {
     "data": {
      "text/plain": [
       "array([0.19957455, 0.19871301, 0.19921672, ..., 0.19652692, 0.1974348 ,\n",
       "       0.20023986])"
      ]
     },
     "execution_count": 55,
     "metadata": {},
     "output_type": "execute_result"
    }
   ],
   "source": [
    "ctr2"
   ]
  },
  {
   "cell_type": "code",
   "execution_count": 57,
   "id": "c91de3a5-da7b-49e7-8a93-bbdb03e889fd",
   "metadata": {},
   "outputs": [
    {
     "data": {
      "text/plain": [
       "(0.20797685812851124, 0.2080614052996766)"
      ]
     },
     "execution_count": 57,
     "metadata": {},
     "output_type": "execute_result"
    }
   ],
   "source": [
    "stats.t.interval(alpha=0.99, df=len(ctr1)-1, loc=np.mean(ctr1), scale=stats.sem(ctr1)) "
   ]
  },
  {
   "cell_type": "code",
   "execution_count": 58,
   "id": "e31aa062-9865-48ed-ab4e-f6322c070e50",
   "metadata": {},
   "outputs": [
    {
     "data": {
      "text/plain": [
       "(0.1979564441796522, 0.19812105612308845)"
      ]
     },
     "execution_count": 58,
     "metadata": {},
     "output_type": "execute_result"
    }
   ],
   "source": [
    "stats.t.interval(alpha=0.99, df=len(ctr2)-1, loc=np.mean(ctr2), scale=stats.sem(ctr2)) "
   ]
  },
  {
   "cell_type": "markdown",
   "id": "d681a641-4c7b-44eb-b16a-864419f0f3e6",
   "metadata": {},
   "source": [
    "Видим, что при даже при уровне достоверности в 99% интервалы не пересекаются, соотвественно мы отклоняем Н0, разница статистически значима."
   ]
  },
  {
   "cell_type": "markdown",
   "id": "869281b3-393a-4675-a12b-77e2502c13a5",
   "metadata": {},
   "source": [
    "Рекомендации\n",
    "\n",
    "Гипотеза, что новый алгоритм во 2-й группе приведет к увеличению CTR, подтвердилась\n",
    "\n",
    "Рекомендация: не раскатывать новый алгоритм на всех новых пользователей."
   ]
  }
 ],
 "metadata": {
  "kernelspec": {
   "display_name": "Python 3 (ipykernel)",
   "language": "python",
   "name": "python3"
  },
  "language_info": {
   "codemirror_mode": {
    "name": "ipython",
    "version": 3
   },
   "file_extension": ".py",
   "mimetype": "text/x-python",
   "name": "python",
   "nbconvert_exporter": "python",
   "pygments_lexer": "ipython3",
   "version": "3.8.10"
  }
 },
 "nbformat": 4,
 "nbformat_minor": 5
}
